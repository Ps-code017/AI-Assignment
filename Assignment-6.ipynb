{
  "cells": [
    {
      "cell_type": "code",
      "execution_count": null,
      "metadata": {
        "colab": {
          "base_uri": "https://localhost:8080/"
        },
        "id": "g-cDC2XHdxRT",
        "outputId": "9f96a47d-4ff9-4951-f81e-675ef571d6e5"
      },
      "outputs": [
        {
          "name": "stdout",
          "output_type": "stream",
          "text": [
            "K = 1\n",
            "Candidate A salary: $110000.0\n",
            "Candidate B salary: $112000.0\n",
            "K = 3\n",
            "Candidate A salary: $126666.66666666667\n",
            "Candidate B salary: $117333.33333333333\n",
            "K = 5\n",
            "Candidate A salary: $123000.0\n",
            "Candidate B salary: $106200.0\n",
            "K = 7\n",
            "Candidate A salary: $116571.42857142857\n",
            "Candidate B salary: $111571.42857142857\n",
            "K = 9\n",
            "Candidate A salary: $112444.44444444444\n",
            "Candidate B salary: $112444.44444444444\n"
          ]
        },
        {
          "name": "stderr",
          "output_type": "stream",
          "text": [
            "/usr/local/lib/python3.11/dist-packages/sklearn/utils/validation.py:2739: UserWarning: X does not have valid feature names, but StandardScaler was fitted with feature names\n",
            "  warnings.warn(\n",
            "/usr/local/lib/python3.11/dist-packages/sklearn/utils/validation.py:2739: UserWarning: X does not have valid feature names, but StandardScaler was fitted with feature names\n",
            "  warnings.warn(\n",
            "/usr/local/lib/python3.11/dist-packages/sklearn/utils/validation.py:2739: UserWarning: X does not have valid feature names, but StandardScaler was fitted with feature names\n",
            "  warnings.warn(\n",
            "/usr/local/lib/python3.11/dist-packages/sklearn/utils/validation.py:2739: UserWarning: X does not have valid feature names, but StandardScaler was fitted with feature names\n",
            "  warnings.warn(\n",
            "/usr/local/lib/python3.11/dist-packages/sklearn/utils/validation.py:2739: UserWarning: X does not have valid feature names, but StandardScaler was fitted with feature names\n",
            "  warnings.warn(\n"
          ]
        }
      ],
      "source": [
        "import pandas as pd\n",
        "import numpy as np\n",
        "from sklearn.preprocessing import StandardScaler\n",
        "from sklearn.neighbors import KNeighborsRegressor\n",
        "\n",
        "# Load existing dataset\n",
        "data = pd.read_csv('hr_salary_data.csv')\n",
        "\n",
        "# Prepare data\n",
        "X = data[['experience', 'written_score', 'interview_score']]\n",
        "y = data['salary']\n",
        "\n",
        "# Scale features\n",
        "scaler = StandardScaler()\n",
        "X_scaled = scaler.fit_transform(X)\n",
        "\n",
        "# Test with different K values\n",
        "k_values = [1, 3, 5, 7, 9]\n",
        "for k in k_values:\n",
        "    knn = KNeighborsRegressor(n_neighbors=k)\n",
        "    knn.fit(X_scaled, y)\n",
        "\n",
        "    # Test candidates\n",
        "    test_data = np.array([[5, 8, 10], [8, 7, 6]])\n",
        "    test_scaled = scaler.transform(test_data)\n",
        "    predictions = knn.predict(test_scaled)\n",
        "\n",
        "    print(f\"K = {k}\")\n",
        "    print(f\"Candidate A salary: ${predictions[0]}\")\n",
        "    print(f\"Candidate B salary: ${predictions[1]}\")"
      ]
    },
    {
      "cell_type": "code",
      "execution_count": null,
      "metadata": {
        "colab": {
          "base_uri": "https://localhost:8080/"
        },
        "id": "5MoEduQZhbpd",
        "outputId": "e9143a6f-696e-44c5-eeed-1cf511dc769d"
      },
      "outputs": [
        {
          "name": "stdout",
          "output_type": "stream",
          "text": [
            "Accuracy: 1.0\n",
            "Precision: 0.0\n",
            "Recall: 0.0\n",
            "F1 Score: 0.0\n",
            "Candidate A selection: 1, Prob: 1.0\n",
            "Candidate B selection: 1, Prob: 1.0\n"
          ]
        },
        {
          "name": "stderr",
          "output_type": "stream",
          "text": [
            "/usr/local/lib/python3.11/dist-packages/sklearn/utils/validation.py:2739: UserWarning: X does not have valid feature names, but GaussianNB was fitted with feature names\n",
            "  warnings.warn(\n",
            "/usr/local/lib/python3.11/dist-packages/sklearn/utils/validation.py:2739: UserWarning: X does not have valid feature names, but GaussianNB was fitted with feature names\n",
            "  warnings.warn(\n"
          ]
        }
      ],
      "source": [
        "import pandas as pd\n",
        "import numpy as np\n",
        "from sklearn.model_selection import train_test_split\n",
        "from sklearn.naive_bayes import GaussianNB\n",
        "from sklearn.metrics import accuracy_score, precision_score, recall_score, f1_score\n",
        "\n",
        "# Load existing dataset\n",
        "data = pd.read_csv('hr_selection_data.csv')\n",
        "\n",
        "# Split data\n",
        "X = data[['grad_percent', 'experience', 'written_score', 'interview_score']]\n",
        "y = data['selection']\n",
        "X_train, X_test, y_train, y_test = train_test_split(X, y, test_size=0.2, random_state=42)\n",
        "\n",
        "# Train Naive Bayes model\n",
        "nb = GaussianNB()\n",
        "nb.fit(X_train, y_train)\n",
        "\n",
        "# Evaluate on test data\n",
        "y_pred = nb.predict(X_test)\n",
        "accuracy = accuracy_score(y_test, y_pred)\n",
        "precision = precision_score(y_test, y_pred, zero_division=0)\n",
        "recall = recall_score(y_test, y_pred, zero_division=0)\n",
        "f1 = f1_score(y_test, y_pred, zero_division=0)\n",
        "\n",
        "print(f\"Accuracy: {accuracy}\")\n",
        "print(f\"Precision: {precision}\")\n",
        "print(f\"Recall: {recall}\")\n",
        "print(f\"F1 Score: {f1}\")\n",
        "\n",
        "# Predict for given candidates\n",
        "candidates = np.array([[90, 5, 8, 10], [75, 8, 7, 6]])\n",
        "predictions = nb.predict(candidates)\n",
        "probabilities = nb.predict_proba(candidates)\n",
        "\n",
        "print(f\"Candidate A selection: {predictions[0]}, Prob: {probabilities[0][1]}\")\n",
        "print(f\"Candidate B selection: {predictions[1]}, Prob: {probabilities[1][1]}\")\n",
        "\n",
        "# Save metrics\n",
        "metrics_df = pd.DataFrame({\n",
        "    'accuracy': [accuracy],\n",
        "    'precision': [precision],\n",
        "    'recall': [recall],\n",
        "    'f1_score': [f1]\n",
        "})\n",
        "metrics_df.to_csv('classification_metrics.csv', index=False)"
      ]
    },
    {
      "cell_type": "code",
      "execution_count": null,
      "metadata": {
        "colab": {
          "base_uri": "https://localhost:8080/"
        },
        "id": "e7MD2RnqhfDi",
        "outputId": "41d2d9f2-1dc2-47ea-b725-cff71f56dede"
      },
      "outputs": [
        {
          "name": "stdout",
          "output_type": "stream",
          "text": [
            "Train size: 0.5, Accuracy: 0.92\n",
            "Train size: 0.6, Accuracy: 0.9833333333333333\n",
            "Train size: 0.7, Accuracy: 0.9777777777777777\n",
            "Train size: 0.8, Accuracy: 1.0\n",
            "Train size: 0.9, Accuracy: 1.0\n",
            "Max depth: 3, Accuracy: 1.0\n",
            "Max depth: 5, Accuracy: 1.0\n",
            "Max depth: 7, Accuracy: 1.0\n",
            "Max depth: 10, Accuracy: 1.0\n",
            "Max depth: None, Accuracy: 1.0\n"
          ]
        }
      ],
      "source": [
        "from sklearn.datasets import load_iris\n",
        "from sklearn.tree import DecisionTreeClassifier\n",
        "from sklearn.model_selection import train_test_split\n",
        "from sklearn.metrics import accuracy_score\n",
        "\n",
        "# Load Iris dataset\n",
        "iris = load_iris()\n",
        "X = iris.data\n",
        "y = iris.target\n",
        "\n",
        "# Try different training sizes\n",
        "train_sizes = [0.5, 0.6, 0.7, 0.8, 0.9]\n",
        "for size in train_sizes:\n",
        "    X_train, X_test, y_train, y_test = train_test_split(X, y, train_size=size, random_state=42)\n",
        "\n",
        "    dt = DecisionTreeClassifier(criterion='entropy', random_state=42)\n",
        "    dt.fit(X_train, y_train)\n",
        "\n",
        "    y_pred = dt.predict(X_test)\n",
        "    accuracy = accuracy_score(y_test, y_pred)\n",
        "\n",
        "    print(f\"Train size: {size}, Accuracy: {accuracy}\")\n",
        "\n",
        "# Try different max_depth values with 80% training data\n",
        "X_train, X_test, y_train, y_test = train_test_split(X, y, train_size=0.8, random_state=42)\n",
        "depths = [3, 5, 7, 10, None]\n",
        "\n",
        "for depth in depths:\n",
        "    dt = DecisionTreeClassifier(criterion='entropy', max_depth=depth, random_state=42)\n",
        "    dt.fit(X_train, y_train)\n",
        "\n",
        "    y_pred = dt.predict(X_test)\n",
        "    accuracy = accuracy_score(y_test, y_pred)\n",
        "\n",
        "    print(f\"Max depth: {depth}, Accuracy: {accuracy}\")"
      ]
    },
    {
      "cell_type": "code",
      "execution_count": null,
      "metadata": {
        "colab": {
          "base_uri": "https://localhost:8080/"
        },
        "id": "WzJJSg9shhQ6",
        "outputId": "1d40cf76-1683-4fca-c674-6e1f22881cde"
      },
      "outputs": [
        {
          "name": "stdout",
          "output_type": "stream",
          "text": [
            "             model  accuracy  precision  recall  f1_score\n",
            "0        KNN (k=1)       1.0        1.0     1.0       1.0\n",
            "1        KNN (k=3)       1.0        1.0     1.0       1.0\n",
            "2        KNN (k=5)       1.0        1.0     1.0       1.0\n",
            "3     DT (depth=3)       1.0        1.0     1.0       1.0\n",
            "4     DT (depth=5)       1.0        1.0     1.0       1.0\n",
            "5  DT (depth=None)       1.0        1.0     1.0       1.0\n",
            "6      Naive Bayes       1.0        1.0     1.0       1.0\n"
          ]
        }
      ],
      "source": [
        "import pandas as pd\n",
        "from sklearn.datasets import load_iris\n",
        "from sklearn.model_selection import train_test_split\n",
        "from sklearn.neighbors import KNeighborsClassifier\n",
        "from sklearn.naive_bayes import GaussianNB\n",
        "from sklearn.tree import DecisionTreeClassifier\n",
        "from sklearn.metrics import accuracy_score, precision_score, recall_score, f1_score\n",
        "\n",
        "# Load iris dataset\n",
        "X, y = load_iris(return_X_y=True)\n",
        "\n",
        "# Split data\n",
        "X_train, X_test, y_train, y_test = train_test_split(X, y, test_size=0.2, random_state=42)\n",
        "\n",
        "results = []\n",
        "\n",
        "# KNN models with different k\n",
        "for k in [1, 3, 5]:\n",
        "    knn = KNeighborsClassifier(n_neighbors=k)\n",
        "    knn.fit(X_train, y_train)\n",
        "    y_pred = knn.predict(X_test)\n",
        "\n",
        "    accuracy = accuracy_score(y_test, y_pred)\n",
        "    precision = precision_score(y_test, y_pred, average='macro')\n",
        "    recall = recall_score(y_test, y_pred, average='macro')\n",
        "    f1 = f1_score(y_test, y_pred, average='macro')\n",
        "\n",
        "    results.append({\n",
        "        'model': f'KNN (k={k})',\n",
        "        'accuracy': accuracy,\n",
        "        'precision': precision,\n",
        "        'recall': recall,\n",
        "        'f1_score': f1\n",
        "    })\n",
        "\n",
        "# Decision Tree models with different depths\n",
        "for depth in [3, 5, None]:\n",
        "    dt = DecisionTreeClassifier(criterion='entropy', max_depth=depth, random_state=42)\n",
        "    dt.fit(X_train, y_train)\n",
        "    y_pred = dt.predict(X_test)\n",
        "\n",
        "    accuracy = accuracy_score(y_test, y_pred)\n",
        "    precision = precision_score(y_test, y_pred, average='macro')\n",
        "    recall = recall_score(y_test, y_pred, average='macro')\n",
        "    f1 = f1_score(y_test, y_pred, average='macro')\n",
        "\n",
        "    results.append({\n",
        "        'model': f'DT (depth={depth})',\n",
        "        'accuracy': accuracy,\n",
        "        'precision': precision,\n",
        "        'recall': recall,\n",
        "        'f1_score': f1\n",
        "    })\n",
        "\n",
        "# Naive Bayes model\n",
        "nb = GaussianNB()\n",
        "nb.fit(X_train, y_train)\n",
        "y_pred = nb.predict(X_test)\n",
        "\n",
        "accuracy = accuracy_score(y_test, y_pred)\n",
        "precision = precision_score(y_test, y_pred, average='macro')\n",
        "recall = recall_score(y_test, y_pred, average='macro')\n",
        "f1 = f1_score(y_test, y_pred, average='macro')\n",
        "\n",
        "results.append({\n",
        "    'model': 'Naive Bayes',\n",
        "    'accuracy': accuracy,\n",
        "    'precision': precision,\n",
        "    'recall': recall,\n",
        "    'f1_score': f1\n",
        "})\n",
        "\n",
        "# Create and save results\n",
        "results_df = pd.DataFrame(results)\n",
        "results_df.to_csv('model_comparison.csv', index=False)\n",
        "print(results_df)"
      ]
    }
  ],
  "metadata": {
    "colab": {
      "provenance": []
    },
    "kernelspec": {
      "display_name": "Python 3",
      "name": "python3"
    },
    "language_info": {
      "name": "python"
    }
  },
  "nbformat": 4,
  "nbformat_minor": 0
}

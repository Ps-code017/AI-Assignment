{
  "cells": [
    {
      "cell_type": "code",
      "execution_count": 1,
      "metadata": {
        "colab": {
          "base_uri": "https://localhost:8080/"
        },
        "id": "RusjZ8AWZR7u",
        "outputId": "95585ecf-bba8-415b-a582-60960e483896"
      },
      "outputs": [
        {
          "name": "stdout",
          "output_type": "stream",
          "text": [
            "Final Population: [[1, 0, 1, 0], [0, 0, 0, 1], [1, 1, 0, 0], [0, 0, 0, 0]]\n"
          ]
        }
      ],
      "source": [
        "import random\n",
        "weights = [45, 40, 50, 90]\n",
        "values = [3, 5, 8, 10]\n",
        "max_capacity = 100\n",
        "initial_population = [[1, 1, 1, 1], [1, 0, 0, 0], [1, 0, 1, 0], [1, 0, 0, 1]]\n",
        "iterations = 10\n",
        "\n",
        "def fitness(chromosomes):\n",
        "    total_weight = sum(w * c for w, c in zip(weights, chromosomes))\n",
        "    total_value = sum(v * c for v, c in zip(values, chromosomes))\n",
        "    return total_value if total_weight <= max_capacity else 0\n",
        "\n",
        "def crossover(parent1, parent2):\n",
        "    point = random.randint(1, len(parent1) - 1)\n",
        "    return parent1[:point] + parent2[point:], parent2[:point] + parent1[point:]\n",
        "\n",
        "mutation_order = [3, 2, 1, 0]\n",
        "mutation_index = 0\n",
        "\n",
        "def mutate(chromosomes):\n",
        "    global mutation_index\n",
        "    chromosomes[mutation_order[mutation_index]] ^= 1\n",
        "    mutation_index = (mutation_index + 1) % len(mutation_order)\n",
        "    return chromosomes\n",
        "\n",
        "population = initial_population\n",
        "\n",
        "for i in range(iterations):\n",
        "    fitness_values = [fitness(ch) for ch in population]\n",
        "    sorted_population = [x for _, x in sorted(zip(fitness_values, population), reverse=True)]\n",
        "    new_population = sorted_population[:2]\n",
        "    offspring1, offspring2 = crossover(sorted_population[2], sorted_population[3])\n",
        "    offspring1 = mutate(offspring1)\n",
        "    new_population.extend([offspring1, offspring2])\n",
        "    population = new_population\n",
        "print(\"Final Population:\", population)\n"
      ]
    },
    {
      "cell_type": "code",
      "execution_count": 2,
      "metadata": {
        "colab": {
          "base_uri": "https://localhost:8080/"
        },
        "id": "t-wZU93RZVuZ",
        "outputId": "81e7c44f-d930-4d63-8748-c4ea507f744a"
      },
      "outputs": [
        {
          "name": "stdout",
          "output_type": "stream",
          "text": [
            "Final Population: [[1, 1, 1, 0], [0, 1, 0, 1], [1, 0, 0, 1], [1, 0, 0, 1]]\n"
          ]
        }
      ],
      "source": [
        "import random\n",
        "weights = [2,3,4,5]\n",
        "values = [3,5,7,9]\n",
        "max_capacity = 9\n",
        "initial_population = [[1, 1, 1, 1], [1, 0, 0, 0], [1, 0, 1, 0], [1, 0, 0, 1]]\n",
        "iterations = 4\n",
        "\n",
        "def fitness(chromosomes):\n",
        "    total_weight = sum(w * c for w, c in zip(weights, chromosomes))\n",
        "    total_value = sum(v * c for v, c in zip(values, chromosomes))\n",
        "    return total_value if total_weight <= max_capacity else 0\n",
        "\n",
        "def crossover(parent1, parent2):\n",
        "    point = random.randint(1, len(parent1) - 1)\n",
        "    return parent1[:point] + parent2[point:], parent2[:point] + parent1[point:]\n",
        "\n",
        "def mutate(chromosomes):\n",
        "    global mutation_index\n",
        "    chromosomes[mutation_order[mutation_index]] ^= 1\n",
        "    mutation_index = (mutation_index + 1) % len(mutation_order)\n",
        "    return chromosomes\n",
        "\n",
        "population = initial_population\n",
        "\n",
        "for i in range(iterations):\n",
        "    fitness_values = [fitness(ch) for ch in population]\n",
        "    sorted_population = [x for _, x in sorted(zip(fitness_values, population), reverse=True)]\n",
        "    new_population = sorted_population[:2]\n",
        "    offspring1, offspring2 = crossover(sorted_population[2], sorted_population[3])\n",
        "    offspring1 = mutate(offspring1)\n",
        "    new_population.extend([offspring1, offspring2])\n",
        "    population = new_population\n",
        "print(\"Final Population:\", population)\n"
      ]
    },
    {
      "cell_type": "code",
      "execution_count": 3,
      "metadata": {
        "colab": {
          "base_uri": "https://localhost:8080/"
        },
        "id": "rZwI05J5ZhJ0",
        "outputId": "cf784e64-67ab-47be-8fec-063b9cfcaa67"
      },
      "outputs": [
        {
          "name": "stdout",
          "output_type": "stream",
          "text": [
            "Iteration 1: Current Solution [1, 1, 1, 1], Temperature 500\n",
            "Iteration 2: Current Solution [1, 1, 1, 0], Temperature 450\n",
            "Iteration 3: Current Solution [1, 1, 1, 1], Temperature 400\n",
            "Iteration 4: Current Solution [0, 1, 1, 1], Temperature 350\n",
            "Iteration 5: Current Solution [0, 1, 0, 1], Temperature 300\n",
            "Iteration 6: Current Solution [0, 0, 0, 1], Temperature 250\n",
            "Iteration 7: Current Solution [1, 0, 0, 1], Temperature 200\n",
            "Iteration 8: Current Solution [0, 0, 0, 1], Temperature 150\n",
            "Iteration 9: Current Solution [0, 1, 0, 1], Temperature 100\n",
            "Iteration 10: Current Solution [0, 1, 0, 0], Temperature 50\n",
            "Final Solution: [0, 1, 1, 0]\n",
            "Heuristic Value (satisfied clauses): 4\n"
          ]
        }
      ],
      "source": [
        "import math\n",
        "import random\n",
        "\n",
        "clauses = [\n",
        "    lambda a, b, c, d: not a or d,\n",
        "    lambda a, b, c, d: c or b,\n",
        "    lambda a, b, c, d: not c or not d,\n",
        "    lambda a, b, c, d: not a or not d\n",
        "]\n",
        "\n",
        "solution = [1, 1, 1, 1]\n",
        "T = 500\n",
        "cooling_rate = 50\n",
        "random_numbers = [0.655, 0.254, 0.432]\n",
        "\n",
        "def heuristic(sol):\n",
        "    a, b, c, d = sol\n",
        "    return sum(1 for clause in clauses if clause(a, b, c, d))\n",
        "\n",
        "def movegen(sol):\n",
        "    newsol = sol[:]\n",
        "    flipindex = random.randint(0, 3)\n",
        "    newsol[flipindex] ^= 1\n",
        "    return newsol\n",
        "\n",
        "iterations = 0\n",
        "while T > 0:\n",
        "    iterations += 1\n",
        "    print(f\"Iteration {iterations}: Current Solution {solution}, Temperature {T}\")\n",
        "    current_heuristic = heuristic(solution)\n",
        "    new_solution = movegen(solution)\n",
        "    new_heuristic = heuristic(new_solution)\n",
        "    delta = new_heuristic - current_heuristic\n",
        "    acceptance_probability = math.exp(delta / T) if delta < 0 else 1\n",
        "    if delta > 0 or random.random() < acceptance_probability:\n",
        "        solution = new_solution\n",
        "        T -= cooling_rate\n",
        "print(\"Final Solution:\", solution)\n",
        "print(\"Heuristic Value (satisfied clauses):\", heuristic(solution))"
      ]
    }
  ],
  "metadata": {
    "colab": {
      "provenance": []
    },
    "kernelspec": {
      "display_name": "Python 3",
      "name": "python3"
    },
    "language_info": {
      "name": "python"
    }
  },
  "nbformat": 4,
  "nbformat_minor": 0
}
